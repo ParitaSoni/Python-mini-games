{
 "cells": [
  {
   "cell_type": "markdown",
   "id": "18e5632a-890e-4b83-9c8f-0ad06ccf4bda",
   "metadata": {},
   "source": [
    "Hello,\n",
    "Welcome to my mini project of 3 different python games. \n",
    "With the simple use of loops, functions and modules one can create fun games in python.\n",
    "Try below and Enjoy playing...:)"
   ]
  },
  {
   "cell_type": "code",
   "execution_count": 6,
   "id": "0b30269f-1ab0-4d89-8ed1-3691a4fa23b2",
   "metadata": {},
   "outputs": [
    {
     "name": "stdin",
     "output_type": "stream",
     "text": [
      "Hello!! Enter your name here :  Parita\n"
     ]
    },
    {
     "name": "stdout",
     "output_type": "stream",
     "text": [
      "Welcome! Parita\n"
     ]
    }
   ],
   "source": [
    "player_name = input(\"Hello!! Enter your name here : \").capitalize() #take input of player name and capitalize \n",
    "print(f'Welcome! {player_name}')"
   ]
  },
  {
   "cell_type": "markdown",
   "id": "d8ef1a10-4f48-4383-bf6d-052c283ca9db",
   "metadata": {},
   "source": [
    "##### Game 1) Guess the number."
   ]
  },
  {
   "cell_type": "markdown",
   "id": "7b2b3a67-edf8-47ac-90d1-fa723d86697e",
   "metadata": {},
   "source": [
    "Below is the flow and idea of game\n",
    "- Generate random number (range will be 1 - 50)\n",
    "- Input a number\n",
    "- Check if number is too small or too large\n",
    "- Can quit if don't want to play\n",
    "- Can get max 5 chances\n",
    "- Can replay the game."
   ]
  },
  {
   "cell_type": "code",
   "execution_count": 8,
   "id": "a791b511-b6fe-452d-9ab3-44f6c0769d5c",
   "metadata": {},
   "outputs": [],
   "source": [
    "#import random module for number generation\n",
    "import random "
   ]
  },
  {
   "cell_type": "code",
   "execution_count": 10,
   "id": "9b475bd8-b114-4c1b-bc0c-8b32c3d2ab59",
   "metadata": {},
   "outputs": [
    {
     "name": "stdout",
     "output_type": "stream",
     "text": [
      "New game started!! Computer has chosen a number. The number is between 1-50.\n",
      "You have 5 attempts to crack that number.\n",
      "You can quit by pressing 'q'\n",
      "\n"
     ]
    },
    {
     "name": "stdin",
     "output_type": "stream",
     "text": [
      "Attempts  1 : your guess? q\n"
     ]
    },
    {
     "name": "stdout",
     "output_type": "stream",
     "text": [
      "you have quit the game after 0 attempts. Goodbye!\n"
     ]
    },
    {
     "name": "stdin",
     "output_type": "stream",
     "text": [
      "\n",
      "Do you want to play again? (yes/no):  n\n"
     ]
    },
    {
     "name": "stdout",
     "output_type": "stream",
     "text": [
      "Thanks for playing!  See you next time!\n"
     ]
    }
   ],
   "source": [
    "def play_game():  \n",
    "    random_num = random.randint(1, 50) # computer will choose random number from given range\n",
    "    max_attempts = 5 # max number of attempts one can play\n",
    "    attempts = 0   # initialise attempts with 0\n",
    "\n",
    "    print(\"New game started!! Computer has chosen a number. The number is between 1-50.\")\n",
    "    print(\"You have 5 attempts to crack that number.\")\n",
    "    print(\"You can quit by pressing 'q'\\n\")\n",
    "\n",
    "    while attempts < max_attempts: \n",
    "        user_input = input(f\"Attempts  {attempts + 1} : your guess?\") # user can input number or \"q\" if want to quit\n",
    "\n",
    "        if user_input.lower() == 'q':  # if user doesn't want to play\n",
    "            print(f'you have quit the game after {attempts} attempts. Goodbye!')\n",
    "            return\n",
    "            \n",
    "        attempts += 1 # add 1 to attempts once user enter value\n",
    "        user_input = int(user_input) # convert string to integer\n",
    "\n",
    "        if user_input < random_num:\n",
    "            print(\"Number is too small. Guess a bigger number\")\n",
    "        elif user_input > random_num:\n",
    "            print(\"Number is too big. Guess a smaller number\")\n",
    "        else:\n",
    "            print(f\"Yay!! {player_name}, your guess is correct at attempt no: {attempts} correct number is {random_num}\")\n",
    "            break\n",
    "    else:\n",
    "         print(f\" {player_name}, you are out of attempts! The number was {random_num}.\")\n",
    "\n",
    "while True: \n",
    "    play_game()\n",
    "    replay = input(\"\\nDo you want to play again? (yes/no): \").strip().lower()\n",
    "    if replay not in ('yes', 'y'):\n",
    "        print(\"Thanks for playing!  See you next time!\")\n",
    "        break"
   ]
  },
  {
   "cell_type": "markdown",
   "id": "a55537ef-cf56-4c5b-a382-dd2ba8e65ab4",
   "metadata": {},
   "source": [
    "##### Game 2) Rock, Paper, Scissors "
   ]
  },
  {
   "cell_type": "markdown",
   "id": "8a90c5ad-8ac4-4050-8222-e61d6700ef55",
   "metadata": {},
   "source": [
    "Below is the flow and idea of game\n",
    "\n",
    "- User Input: Ask the player to choose between \"rock\", \"paper\", or \"scissors\".\n",
    "- Computer Choice: Use randomization so the computer picks one of the three options at random.\n",
    "- Comparison Logic:\n",
    "  - Rock beats Scissors\n",
    "  - Scissors beats Paper\n",
    "  - Paper beats Rock\n",
    "  - If both choices are the same, the game is draw\n",
    "- Scoring System:\n",
    "  - Keep track of how many rounds the player or the computer has won.\n",
    "  - Optionally let the user choose how many rounds to play.\n",
    "- Result Output: Display who won each round and show the final score at the end."
   ]
  },
  {
   "cell_type": "code",
   "execution_count": null,
   "id": "a6f7ee04-6859-481b-b58c-a734aa54beab",
   "metadata": {},
   "outputs": [],
   "source": [
    "def rps_game():\n",
    "    \n",
    "    choice_map = {'r': 'Rock', 'p': 'Paper', 's': 'Scissors'} # map choices of rock, paper and scissors with single input\n",
    "    attempts = 0  # initialize attemps\n",
    "    user_points = 0  # initialize points of player\n",
    "    computer_points = 0 # initialize points of computer\n",
    "    max_attempts = input(\"How many rounds would you like to play?\") #user input for number of rounds t be played by player\n",
    "    \n",
    "    if not max_attempts.isdigit() or int(max_attempts) <= 0:\n",
    "        print(\"Enter a positive number.\")\n",
    "        return\n",
    "    else:\n",
    "        max_attempts = int(max_attempts)\n",
    "        \n",
    "    print(\"-\" * 40)\n",
    "    print(\"New game started.\")\n",
    "    print(\"Choose one: Rock (r), Paper (p), or Scissors (s)\")\n",
    "    print(\"To quit early, press 'q'\\n\")\n",
    "\n",
    "    while attempts < max_attempts:\n",
    "        \n",
    "        user_input = input(f\"Attempts {attempts + 1}: Select any one out of Rock, Paper and Scissors:\") #take user input for their choice or to quit\n",
    "\n",
    "        if user_input.lower() == 'q':\n",
    "            print(f'{player_name} chose to quit the game early. Goodbye!! 👋 ')\n",
    "            break\n",
    "        if user_input not in choice_map:\n",
    "            print(\"❌ Invalid input. Please enter 'r', 'p', or 's'.\\n\")\n",
    "            continue\n",
    "            \n",
    "        computer_choice = random.choice([\"r\", \"p\", \"s\"]) #let computer choice out of r,p and s using random module\n",
    "        #print(f\"Computer chose: {choice_map[computer_choice]}\")\n",
    "        \n",
    "        if user_input.lower() == computer_choice.lower(): #condition for draw\n",
    "            computer_points += 1\n",
    "            user_points += 1\n",
    "            print(\"🤝 It's a draw!\")\n",
    "        elif user_input.lower() == 'r' and computer_choice.lower() == 's': #winning conditions for game\n",
    "            print(f\"✅ You won! You chose: Rock, Computer chose: {choice_map[computer_choice]}\")\n",
    "            user_points += 1\n",
    "        elif user_input.lower() == 'p' and computer_choice.lower() == 'r':\n",
    "            print(f\"✅ You won! You chose: Paper, Computer chose: {choice_map[computer_choice]} \")\n",
    "            user_points += 1\n",
    "        elif user_input.lower() == 's' and computer_choice.lower() == 'p':\n",
    "            print(f\"✅ You won! You chose: Scissors, Computer chose: {choice_map[computer_choice]}\")\n",
    "            user_points += 1\n",
    "        else:\n",
    "            print(f\"💻 Computer won this round. {player_name} chose : {choice_map[user_input.lower()]}, Computer chose: {choice_map[computer_choice]} \")\n",
    "            computer_points += 1\n",
    "        \n",
    "        attempts += 1 #increase attempts once selected\n",
    "        print(\"-\" * 40)\n",
    "        \n",
    "    print(\"\\n🎉 Game Over! Final Scores:\")\n",
    "    print(f\"{player_name}'s Score: {user_points}\")\n",
    "    print(f\"Computer's Score: {computer_points}\")\n",
    "    if computer_points > user_points: #to check if computer wins\n",
    "        print(f\" 💻 Computer won the game\")\n",
    "    elif computer_points < user_points: #to check if player wins\n",
    "        print(f\" 🏆 Congratulations {player_name} !! You won the game.\")\n",
    "    else:\n",
    "        print(\"🤝 The game is draw\")\n",
    "        \n",
    "while True: #to restart new game or to quit\n",
    "    rps_game()\n",
    "    replay = input(\"\\nDo you want to play again? (yes/no): \").strip().lower()\n",
    "    if replay not in ('yes', 'y'):\n",
    "        print(\"Thanks for playing! 🎮 See you next time!\")\n",
    "        break"
   ]
  },
  {
   "cell_type": "markdown",
   "id": "4964682e-3edf-4cdc-83ab-905e8978e303",
   "metadata": {},
   "source": [
    "##### Game 3) Maths quiz"
   ]
  },
  {
   "cell_type": "markdown",
   "id": "dde47364-933d-442a-ab36-410c39250d14",
   "metadata": {},
   "source": [
    "Below is the flow and idea of game:\n",
    "- Let the player select a number of questions she wants to play.\n",
    "- Only two variables for any mathematical operation (+, -, *, /)\n",
    "- Give a range for a random integer selection for a variable. Here it is between 1-100 for both variables\n",
    "- Show the correct answer if it is wrong.\n",
    "- Show the final score."
   ]
  },
  {
   "cell_type": "code",
   "execution_count": null,
   "id": "c4c301f9-525b-4e24-8f90-c1ae548c3c31",
   "metadata": {},
   "outputs": [],
   "source": [
    "import random\n",
    "\n",
    "def math_quiz():\n",
    "    print(\"-\" * 40)\n",
    "    print(\" 🧠 Welcome to Math Quiz!!\")\n",
    "\n",
    "    #player_name = input(\"Hello!! Enter your name here : \").capitalize()\n",
    "    questions = int(input(\"How many questions would you like to play? (Enter number only): \")) #input for number of questions to play\n",
    "    print(\" \" * 40)\n",
    "    que = 0\n",
    "    score = 0 #initialize score with 0\n",
    "    \n",
    "    for q in range(0,questions):\n",
    "        a = random.randint(1, 100) #select random number for first variable\n",
    "        b = random.randint(1, 100) #selectrndom number for second variable\n",
    "        op = random.choice(['+', '-', '/', '*']) #random choice for operation\n",
    "        \n",
    "        if op == \"+\":\n",
    "            question = f\"{a} + {b}\"\n",
    "            correct_answer = round(a + b , 2)\n",
    "        \n",
    "        elif op == \"/\":\n",
    "            question = f\"{a} / {b}\"\n",
    "            correct_answer = round(a / b , 2)\n",
    "            \n",
    "        elif op == \"-\":\n",
    "            question = f\"{a} - {b}\"\n",
    "            correct_answer = round(a - b , 2)\n",
    "            \n",
    "        elif op == \"*\":\n",
    "            question = f\"{a} * {b}\"\n",
    "            correct_answer = round(a * b , 2)\n",
    "\n",
    "        user_answer = input(f\"What is {question}? (press 'q' to quit) = \")\n",
    "        \n",
    "        if user_answer.lower() == 'q':\n",
    "            print(\"You chose to quit early.\")\n",
    "            print(\"Goodbye 👋\")\n",
    "            print(\"-\" * 40)\n",
    "            break\n",
    "        \n",
    "        user_answer = float(user_answer)\n",
    "        user_answer = round(user_answer,2)\n",
    "        \n",
    "        if user_answer == correct_answer:\n",
    "            print(\"✅ Correct!\\n\")\n",
    "            print(\" \" * 40)\n",
    "            score = score + 1\n",
    "            que = que + 1\n",
    "        else:\n",
    "            print(f\"❌ Incorrect!! The correct answer was {correct_answer}\")\n",
    "            print(\"*\" * 40)\n",
    "\n",
    "    print(f\"{player_name}!! Your final score is {score} / {questions}.\")\n",
    "\n",
    "math_quiz()"
   ]
  }
 ],
 "metadata": {
  "kernelspec": {
   "display_name": "Python 3 (ipykernel)",
   "language": "python",
   "name": "python3"
  },
  "language_info": {
   "codemirror_mode": {
    "name": "ipython",
    "version": 3
   },
   "file_extension": ".py",
   "mimetype": "text/x-python",
   "name": "python",
   "nbconvert_exporter": "python",
   "pygments_lexer": "ipython3",
   "version": "3.12.4"
  }
 },
 "nbformat": 4,
 "nbformat_minor": 5
}
